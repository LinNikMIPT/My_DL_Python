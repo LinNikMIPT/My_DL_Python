{
 "cells": [
  {
   "cell_type": "markdown",
   "metadata": {},
   "source": [
    "# Train"
   ]
  },
  {
   "cell_type": "code",
   "execution_count": 11,
   "metadata": {},
   "outputs": [],
   "source": [
    "# Kaggle: https://www.kaggle.com/c/simpsons4/\n",
    "\n",
    "import numpy as np\n",
    "import pandas as pd \n",
    "import cv2\n",
    "%matplotlib inline\n",
    "import matplotlib.pyplot as plt\n",
    "import pickle\n",
    "import csv\n",
    "import tensorflow as tf\n",
    "from PIL import Image\n",
    "import os\n",
    "import keras\n",
    "import sys\n",
    "import random\n",
    "import shutil\n",
    "\n",
    "# Import architectures\n",
    "from keras.applications import xception\n",
    "\n",
    "from keras.preprocessing import image\n",
    "from tensorflow.keras.preprocessing import image as im\n",
    "import time\n",
    "import datetime\n",
    "\n",
    "from keras.preprocessing.image import ImageDataGenerator\n",
    "from keras.models import load_model\n",
    "from keras.callbacks import EarlyStopping, ReduceLROnPlateau, ModelCheckpoint, Callback\n",
    "from keras import regularizers\n",
    "from keras import backend as K\n",
    "from sklearn.preprocessing import OneHotEncoder\n",
    "\n",
    "from keras.preprocessing.image import ImageDataGenerator, array_to_img, img_to_array, load_img\n",
    "from keras.models import Sequential, Model\n",
    "from keras import layers\n",
    "from keras.layers import Conv2D, MaxPooling2D, BatchNormalization, Input, AveragePooling2D\n",
    "from keras.layers import Activation, Flatten, Dense, Dropout"
   ]
  },
  {
   "cell_type": "code",
   "execution_count": 3,
   "metadata": {},
   "outputs": [],
   "source": [
    "# Train phase\n",
    "\n",
    "tf.keras.backend.set_learning_phase(1) "
   ]
  },
  {
   "cell_type": "code",
   "execution_count": 4,
   "metadata": {},
   "outputs": [],
   "source": [
    "# Choose GPU\n",
    "\n",
    "os.environ[\"CUDA_VISIBLE_DEVICES\"] = \"1,2\""
   ]
  },
  {
   "cell_type": "code",
   "execution_count": 8,
   "metadata": {},
   "outputs": [],
   "source": [
    "# 1) Path to train, test and kaggle (to submit) datasets\n",
    "\n",
    "train_dir = \"/home/linnik/Downloads/Simp/train/\"\n",
    "test_dir = \"/home/linnik/Downloads/Simp/test/\" \n",
    "kaggle_dir = \"/home/linnik/Downloads/Simp/kaggle/\" "
   ]
  },
  {
   "cell_type": "code",
   "execution_count": null,
   "metadata": {},
   "outputs": [],
   "source": [
    "# Make test dataset\n",
    "\n",
    "for folder in os.listdir(train_dir):\n",
    "    os.makedirs(test_dir + folder, exist_ok = True)\n",
    "    \n",
    "    num_train_photo = len(os.listdir(train_dir + folder))\n",
    "    while len(os.listdir(test_dir + folder)) > 0.9 * num_train_photo:\n",
    "        photo = random.choice(os.listdir(train_dir + folder))\n",
    "        shutil.move(train_dir + folder + \"/\" + photo, test_dir + folder + \"/\" + photo)"
   ]
  },
  {
   "cell_type": "code",
   "execution_count": 13,
   "metadata": {},
   "outputs": [],
   "source": [
    "# 2) Target width and height of input images, number of classes, number of train and test images, batch size, epochs\n",
    "img_height, img_width = 300, 300\n",
    "n_classes = len(os.listdir(train_dir))\n",
    "nb_train_samples = sum([len(os.listdir(train_dir + folder)) for folder in os.listdir(train_dir)])\n",
    "nb_test_samples = sum([len(os.listdir(test_dir + folder)) for folder in os.listdir(test_dir)])\n",
    "batch_size = 64\n",
    "epochs = 100\n",
    "\n",
    "\n",
    "# 3) Name of file where will be saved trained model\n",
    "# model_name = \".../Architecture_InputShape_NClasses_date_time.hdf5\"\n",
    "model_name = \"/home/linnik/Nets/Simpsons_Xception.hdf5\"\n",
    "\n",
    "\n",
    "# 4) Compile parametrs\n",
    "loss_ = 'categorical_crossentropy'\n",
    "optimizer_ = 'adam'\n",
    "metrics_ = ['acc']"
   ]
  },
  {
   "cell_type": "code",
   "execution_count": 14,
   "metadata": {},
   "outputs": [],
   "source": [
    "train_datagen = ImageDataGenerator(\n",
    "    rescale = 1.0 / 255,\n",
    "    zoom_range = 0.2,\n",
    "    rotation_range = 5,\n",
    "    width_shift_range = img_width // 5,\n",
    "    height_shift_range = img_height // 5,\n",
    "    horizontal_flip = True,\n",
    "    vertical_flip = False)\n",
    "\n",
    "test_datagen = ImageDataGenerator(rescale = 1.0 / 255)"
   ]
  },
  {
   "cell_type": "code",
   "execution_count": 15,
   "metadata": {},
   "outputs": [
    {
     "name": "stdout",
     "output_type": "stream",
     "text": [
      "Found 18860 images belonging to 42 classes.\n",
      "Found 2073 images belonging to 42 classes.\n"
     ]
    }
   ],
   "source": [
    "train_generator = train_datagen.flow_from_directory(\n",
    "    train_dir,\n",
    "    target_size = (img_height, img_width),\n",
    "    batch_size = batch_size,\n",
    "    class_mode = 'categorical',\n",
    "    classes = os.listdir(test_dir))\n",
    "\n",
    "test_generator = test_datagen.flow_from_directory(\n",
    "    test_dir,\n",
    "    target_size = (img_height, img_width),\n",
    "    batch_size = batch_size,\n",
    "    class_mode = 'categorical',\n",
    "    classes = os.listdir(test_dir))"
   ]
  },
  {
   "cell_type": "code",
   "execution_count": 17,
   "metadata": {},
   "outputs": [
    {
     "data": {
      "text/plain": [
       "{'milhouse_van_houten': 0,\n",
       " 'moe_szyslak': 1,\n",
       " 'marge_simpson': 2,\n",
       " 'miss_hoover': 3,\n",
       " 'barney_gumble': 4,\n",
       " 'comic_book_guy': 5,\n",
       " 'professor_john_frink': 6,\n",
       " 'principal_skinner': 7,\n",
       " 'apu_nahasapeemapetilon': 8,\n",
       " 'charles_montgomery_burns': 9,\n",
       " 'homer_simpson': 10,\n",
       " 'groundskeeper_willie': 11,\n",
       " 'chief_wiggum': 12,\n",
       " 'lionel_hutz': 13,\n",
       " 'maggie_simpson': 14,\n",
       " 'krusty_the_clown': 15,\n",
       " 'selma_bouvier': 16,\n",
       " 'bart_simpson': 17,\n",
       " 'lisa_simpson': 18,\n",
       " 'fat_tony': 19,\n",
       " 'otto_mann': 20,\n",
       " 'patty_bouvier': 21,\n",
       " 'abraham_grampa_simpson': 22,\n",
       " 'lenny_leonard': 23,\n",
       " 'agnes_skinner': 24,\n",
       " 'gil': 25,\n",
       " 'cletus_spuckler': 26,\n",
       " 'snake_jailbird': 27,\n",
       " 'ned_flanders': 28,\n",
       " 'edna_krabappel': 29,\n",
       " 'sideshow_mel': 30,\n",
       " 'carl_carlson': 31,\n",
       " 'rainier_wolfcastle': 32,\n",
       " 'waylon_smithers': 33,\n",
       " 'disco_stu': 34,\n",
       " 'nelson_muntz': 35,\n",
       " 'sideshow_bob': 36,\n",
       " 'kent_brockman': 37,\n",
       " 'martin_prince': 38,\n",
       " 'mayor_quimby': 39,\n",
       " 'troy_mcclure': 40,\n",
       " 'ralph_wiggum': 41}"
      ]
     },
     "execution_count": 17,
     "metadata": {},
     "output_type": "execute_result"
    }
   ],
   "source": [
    "dic_test = test_generator.class_indices\n",
    "dic_test"
   ]
  },
  {
   "cell_type": "code",
   "execution_count": 18,
   "metadata": {},
   "outputs": [
    {
     "name": "stdout",
     "output_type": "stream",
     "text": [
      "[0. 0. 0. 0. 0. 0. 0. 0. 0. 0. 0. 0. 0. 0. 0. 0. 0. 0. 1. 0. 0. 0. 0. 0.\n",
      " 0. 0. 0. 0. 0. 0. 0. 0. 0. 0. 0. 0. 0. 0. 0. 0. 0. 0.]\n",
      "(300, 300, 3)\n"
     ]
    },
    {
     "data": {
      "image/png": "[encoded data removed]",
      "text/plain": [
       "<Figure size 432x288 with 1 Axes>"
      ]
     },
     "metadata": {
      "needs_background": "light"
     },
     "output_type": "display_data"
    }
   ],
   "source": [
    "# Check size\n",
    "\n",
    "for x, y in train_generator:\n",
    "    plt.imshow(x[0])\n",
    "    print(y[0])\n",
    "    print(x[0].shape)\n",
    "    break"
   ]
  },
  {
   "cell_type": "code",
   "execution_count": 19,
   "metadata": {},
   "outputs": [
    {
     "name": "stdout",
     "output_type": "stream",
     "text": [
      "WARNING:tensorflow:From /home/linnik/.conda/envs/linnik/lib/python3.7/site-packages/keras/backend/tensorflow_backend.py:66: The name tf.get_default_graph is deprecated. Please use tf.compat.v1.get_default_graph instead.\n",
      "\n",
      "WARNING:tensorflow:From /home/linnik/.conda/envs/linnik/lib/python3.7/site-packages/keras/backend/tensorflow_backend.py:541: The name tf.placeholder is deprecated. Please use tf.compat.v1.placeholder instead.\n",
      "\n",
      "WARNING:tensorflow:From /home/linnik/.conda/envs/linnik/lib/python3.7/site-packages/keras/backend/tensorflow_backend.py:4432: The name tf.random_uniform is deprecated. Please use tf.random.uniform instead.\n",
      "\n",
      "WARNING:tensorflow:From /home/linnik/.conda/envs/linnik/lib/python3.7/site-packages/keras/backend/tensorflow_backend.py:190: The name tf.get_default_session is deprecated. Please use tf.compat.v1.get_default_session instead.\n",
      "\n",
      "WARNING:tensorflow:From /home/linnik/.conda/envs/linnik/lib/python3.7/site-packages/keras/backend/tensorflow_backend.py:197: The name tf.ConfigProto is deprecated. Please use tf.compat.v1.ConfigProto instead.\n",
      "\n",
      "WARNING:tensorflow:From /home/linnik/.conda/envs/linnik/lib/python3.7/site-packages/keras/backend/tensorflow_backend.py:2041: The name tf.nn.fused_batch_norm is deprecated. Please use tf.compat.v1.nn.fused_batch_norm instead.\n",
      "\n",
      "WARNING:tensorflow:From /home/linnik/.conda/envs/linnik/lib/python3.7/site-packages/keras/backend/tensorflow_backend.py:4267: The name tf.nn.max_pool is deprecated. Please use tf.nn.max_pool2d instead.\n",
      "\n",
      "WARNING:tensorflow:From /home/linnik/.conda/envs/linnik/lib/python3.7/site-packages/keras/optimizers.py:793: The name tf.train.Optimizer is deprecated. Please use tf.compat.v1.train.Optimizer instead.\n",
      "\n"
     ]
    }
   ],
   "source": [
    "# Create and compile Keras model\n",
    "\n",
    "def build_model_Xception():\n",
    "    base_model = xception.Xception(include_top = True, \n",
    "                                      weights = None,\n",
    "                                      input_tensor = None,\n",
    "                                      input_shape = (img_height, img_width, 3),\n",
    "                                      pooling = None,\n",
    "                                      classes = n_classes)\n",
    "  \n",
    "    for layer in base_model.layers:\n",
    "        layer.trainable = True\n",
    "      \n",
    "    model = Model(inputs = base_model.input, outputs = base_model.output)\n",
    "    return model\n",
    "\n",
    "\n",
    "model = build_model_Xception()\n",
    "model.compile(loss = loss_, optimizer = optimizer_, metrics = metrics_)"
   ]
  },
  {
   "cell_type": "code",
   "execution_count": 22,
   "metadata": {},
   "outputs": [],
   "source": [
    "# Callbacks\n",
    "\n",
    "early_stop = EarlyStopping(monitor = 'val_loss', patience = 8, verbose = 1, min_delta = 1e-4)\n",
    "reduce_lr = ReduceLROnPlateau(monitor = 'val_loss', factor = 0.1, patience = 4, verbose = 1, min_delta = 1e-4)\n",
    "check = ModelCheckpoint(filepath = model_name, monitor = \"val_acc\", save_best_only = True)\n",
    "\n",
    "callbacks_list = [early_stop, reduce_lr, check]"
   ]
  },
  {
   "cell_type": "code",
   "execution_count": 24,
   "metadata": {},
   "outputs": [
    {
     "name": "stdout",
     "output_type": "stream",
     "text": [
      "Epoch 1/100\n",
      "294/294 [==============================] - 486s 2s/step - loss: 0.7526 - acc: 0.8003 - val_loss: 2.2233 - val_acc: 0.6431\n",
      "Epoch 2/100\n",
      "294/294 [==============================] - 495s 2s/step - loss: 0.5136 - acc: 0.8582 - val_loss: 2.1309 - val_acc: 0.6491\n",
      "Epoch 3/100\n",
      "294/294 [==============================] - 483s 2s/step - loss: 0.4096 - acc: 0.8854 - val_loss: 0.7625 - val_acc: 0.7999\n",
      "Epoch 4/100\n",
      "294/294 [==============================] - 483s 2s/step - loss: 0.3323 - acc: 0.9091 - val_loss: 0.6517 - val_acc: 0.8522\n",
      "Epoch 5/100\n",
      "294/294 [==============================] - 485s 2s/step - loss: 0.2782 - acc: 0.9235 - val_loss: 0.4813 - val_acc: 0.8761\n",
      "Epoch 6/100\n",
      "294/294 [==============================] - 498s 2s/step - loss: 0.2511 - acc: 0.9319 - val_loss: 0.9860 - val_acc: 0.7939\n",
      "Epoch 7/100\n",
      "294/294 [==============================] - 483s 2s/step - loss: 0.2254 - acc: 0.9404 - val_loss: 0.5359 - val_acc: 0.8611\n",
      "Epoch 8/100\n",
      "294/294 [==============================] - 486s 2s/step - loss: 0.1995 - acc: 0.9460 - val_loss: 0.4766 - val_acc: 0.8805\n",
      "Epoch 9/100\n",
      "294/294 [==============================] - 501s 2s/step - loss: 0.1996 - acc: 0.9456 - val_loss: 0.3074 - val_acc: 0.9318\n",
      "Epoch 10/100\n",
      "294/294 [==============================] - 486s 2s/step - loss: 0.1654 - acc: 0.9557 - val_loss: 0.3839 - val_acc: 0.9169\n",
      "Epoch 11/100\n",
      "294/294 [==============================] - 484s 2s/step - loss: 0.1528 - acc: 0.9586 - val_loss: 0.5954 - val_acc: 0.8522\n",
      "Epoch 12/100\n",
      "294/294 [==============================] - 486s 2s/step - loss: 0.1460 - acc: 0.9607 - val_loss: 0.5370 - val_acc: 0.8990\n",
      "Epoch 13/100\n",
      "294/294 [==============================] - 480s 2s/step - loss: 0.1431 - acc: 0.9616 - val_loss: 0.4419 - val_acc: 0.9014\n",
      "\n",
      "Epoch 00013: ReduceLROnPlateau reducing learning rate to 0.00010000000474974513.\n",
      "Epoch 14/100\n",
      "294/294 [==============================] - 485s 2s/step - loss: 0.0794 - acc: 0.9803 - val_loss: 0.1247 - val_acc: 0.9731\n",
      "Epoch 15/100\n",
      "294/294 [==============================] - 483s 2s/step - loss: 0.0581 - acc: 0.9870 - val_loss: 0.0846 - val_acc: 0.9811\n",
      "Epoch 16/100\n",
      "294/294 [==============================] - 482s 2s/step - loss: 0.0515 - acc: 0.9885 - val_loss: 0.1079 - val_acc: 0.9761\n",
      "Epoch 17/100\n",
      "294/294 [==============================] - 505s 2s/step - loss: 0.0463 - acc: 0.9906 - val_loss: 0.1049 - val_acc: 0.9771\n",
      "Epoch 18/100\n",
      "294/294 [==============================] - 491s 2s/step - loss: 0.0421 - acc: 0.9911 - val_loss: 0.0957 - val_acc: 0.9736\n",
      "Epoch 19/100\n",
      "294/294 [==============================] - 509s 2s/step - loss: 0.0363 - acc: 0.9920 - val_loss: 0.0985 - val_acc: 0.9791\n",
      "\n",
      "Epoch 00019: ReduceLROnPlateau reducing learning rate to 1.0000000474974514e-05.\n",
      "Epoch 20/100\n",
      "294/294 [==============================] - 494s 2s/step - loss: 0.0374 - acc: 0.9920 - val_loss: 0.1024 - val_acc: 0.9776\n",
      "Epoch 21/100\n",
      "294/294 [==============================] - 503s 2s/step - loss: 0.0294 - acc: 0.9934 - val_loss: 0.0831 - val_acc: 0.9806\n",
      "Epoch 22/100\n",
      "294/294 [==============================] - 501s 2s/step - loss: 0.0318 - acc: 0.9931 - val_loss: 0.1140 - val_acc: 0.9766\n",
      "Epoch 23/100\n",
      "294/294 [==============================] - 497s 2s/step - loss: 0.0358 - acc: 0.9922 - val_loss: 0.0785 - val_acc: 0.9836\n",
      "Epoch 24/100\n",
      "294/294 [==============================] - 499s 2s/step - loss: 0.0318 - acc: 0.9937 - val_loss: 0.1212 - val_acc: 0.9736\n",
      "Epoch 25/100\n",
      " 15/294 [>.............................] - ETA: 6:13 - loss: 0.0278 - acc: 0.9927"
     ]
    },
    {
     "name": "stderr",
     "output_type": "stream",
     "text": [
      "ERROR:root:Internal Python error in the inspect module.\n",
      "Below is the traceback from this internal error.\n",
      "\n"
     ]
    },
    {
     "name": "stdout",
     "output_type": "stream",
     "text": [
      "Traceback (most recent call last):\n",
      "  File \"/home/linnik/.conda/envs/linnik/lib/python3.7/site-packages/IPython/core/magics/execution.py\", line 1310, in time\n",
      "    exec(code, glob, local_ns)\n",
      "  File \"<timed exec>\", line 9, in <module>\n",
      "  File \"/home/linnik/.conda/envs/linnik/lib/python3.7/site-packages/keras/legacy/interfaces.py\", line 91, in wrapper\n",
      "    return func(*args, **kwargs)\n",
      "  File \"/home/linnik/.conda/envs/linnik/lib/python3.7/site-packages/keras/engine/training.py\", line 1658, in fit_generator\n",
      "    initial_epoch=initial_epoch)\n",
      "  File \"/home/linnik/.conda/envs/linnik/lib/python3.7/site-packages/keras/engine/training_generator.py\", line 181, in fit_generator\n",
      "    generator_output = next(output_generator)\n",
      "  File \"/home/linnik/.conda/envs/linnik/lib/python3.7/site-packages/keras/utils/data_utils.py\", line 603, in get\n",
      "    inputs = future.get(timeout=30)\n",
      "  File \"/home/linnik/.conda/envs/linnik/lib/python3.7/multiprocessing/pool.py\", line 651, in get\n",
      "    self.wait(timeout)\n",
      "  File \"/home/linnik/.conda/envs/linnik/lib/python3.7/multiprocessing/pool.py\", line 648, in wait\n",
      "    self._event.wait(timeout)\n",
      "  File \"/home/linnik/.conda/envs/linnik/lib/python3.7/threading.py\", line 552, in wait\n",
      "    signaled = self._cond.wait(timeout)\n",
      "  File \"/home/linnik/.conda/envs/linnik/lib/python3.7/threading.py\", line 300, in wait\n",
      "    gotit = waiter.acquire(True, timeout)\n",
      "KeyboardInterrupt\n",
      "\n",
      "During handling of the above exception, another exception occurred:\n",
      "\n",
      "Traceback (most recent call last):\n",
      "  File \"/home/linnik/.conda/envs/linnik/lib/python3.7/site-packages/IPython/core/interactiveshell.py\", line 2040, in showtraceback\n",
      "    stb = value._render_traceback_()\n",
      "AttributeError: 'KeyboardInterrupt' object has no attribute '_render_traceback_'\n",
      "\n",
      "During handling of the above exception, another exception occurred:\n",
      "\n",
      "Traceback (most recent call last):\n",
      "  File \"/home/linnik/.conda/envs/linnik/lib/python3.7/site-packages/IPython/core/ultratb.py\", line 1101, in get_records\n",
      "    return _fixed_getinnerframes(etb, number_of_lines_of_context, tb_offset)\n",
      "  File \"/home/linnik/.conda/envs/linnik/lib/python3.7/site-packages/IPython/core/ultratb.py\", line 319, in wrapped\n",
      "    return f(*args, **kwargs)\n",
      "  File \"/home/linnik/.conda/envs/linnik/lib/python3.7/site-packages/IPython/core/ultratb.py\", line 353, in _fixed_getinnerframes\n",
      "    records = fix_frame_records_filenames(inspect.getinnerframes(etb, context))\n",
      "  File \"/home/linnik/.conda/envs/linnik/lib/python3.7/inspect.py\", line 1502, in getinnerframes\n",
      "    frameinfo = (tb.tb_frame,) + getframeinfo(tb, context)\n",
      "  File \"/home/linnik/.conda/envs/linnik/lib/python3.7/inspect.py\", line 1460, in getframeinfo\n",
      "    filename = getsourcefile(frame) or getfile(frame)\n",
      "  File \"/home/linnik/.conda/envs/linnik/lib/python3.7/inspect.py\", line 696, in getsourcefile\n",
      "    if getattr(getmodule(object, filename), '__loader__', None) is not None:\n",
      "  File \"/home/linnik/.conda/envs/linnik/lib/python3.7/inspect.py\", line 733, in getmodule\n",
      "    if ismodule(module) and hasattr(module, '__file__'):\n",
      "KeyboardInterrupt\n"
     ]
    },
    {
     "ename": "KeyboardInterrupt",
     "evalue": "",
     "output_type": "error",
     "traceback": [
      "\u001b[0;31m---------------------------------------------------------------------------\u001b[0m"
     ]
    }
   ],
   "source": [
    "%%time\n",
    "\n",
    "# Train model\n",
    "\n",
    "model_history = model.fit_generator(\n",
    "    train_generator,\n",
    "    epochs = epochs,\n",
    "    validation_data = test_generator,\n",
    "    validation_steps = nb_test_samples // batch_size,\n",
    "    callbacks = callbacks_list,\n",
    "    steps_per_epoch = nb_train_samples // batch_size)"
   ]
  },
  {
   "cell_type": "markdown",
   "metadata": {},
   "source": [
    "# Test"
   ]
  },
  {
   "cell_type": "code",
   "execution_count": 26,
   "metadata": {},
   "outputs": [],
   "source": [
    "# Test phase\n",
    "\n",
    "tf.keras.backend.set_learning_phase(0)"
   ]
  },
  {
   "cell_type": "code",
   "execution_count": 27,
   "metadata": {},
   "outputs": [],
   "source": [
    "# Load trained model\n",
    "\n",
    "loaded_model = load_model(model_name)"
   ]
  },
  {
   "cell_type": "code",
   "execution_count": 28,
   "metadata": {},
   "outputs": [],
   "source": [
    "def Accuracy(test_dir, model, dic):\n",
    "    n_classes = len(os.listdir(test_dir))\n",
    "    dic_rev = {v:k for k, v in dic.items()}\n",
    "    \n",
    "    right = 0\n",
    "    wrong = 0\n",
    "\n",
    "    for folder in os.listdir(test_dir):\n",
    "        for img in os.listdir(test_dir + \"/\" + folder):\n",
    "            imag = im.load_img(test_dir + \"/\" + folder + \"/\" + img, target_size = (img_height, img_width))\n",
    "\n",
    "            photo_ar = im.img_to_array(imag)\n",
    "            photo_ar = np.expand_dims(photo_ar, axis = 0)\n",
    "            photo_ar /= 255\n",
    "\n",
    "            ans = np.argmax(model.predict(photo_ar))\n",
    "\n",
    "\n",
    "            if folder == dic_rev[ans]:\n",
    "                right += 1\n",
    "            else:\n",
    "                wrong += 1\n",
    "    \n",
    "    \n",
    "    accuracy = right/(right + wrong)\n",
    "    return accuracy"
   ]
  },
  {
   "cell_type": "code",
   "execution_count": 29,
   "metadata": {},
   "outputs": [
    {
     "name": "stdout",
     "output_type": "stream",
     "text": [
      "Accuracy on test set is 0.9778099372889532\n",
      "CPU times: user 27.4 s, sys: 2.6 s, total: 30 s\n",
      "Wall time: 28.8 s\n"
     ]
    }
   ],
   "source": [
    "%%time\n",
    "\n",
    "accuracy = Accuracy(test_dir, model, dic_test)\n",
    "print(\"Accuracy on test set is\", accuracy)"
   ]
  },
  {
   "cell_type": "code",
   "execution_count": 36,
   "metadata": {},
   "outputs": [],
   "source": [
    "# Make submit csv file\n",
    "\n",
    "dic_test_rev = {v:k for k, v in dic_test.items()}\n",
    "ans_df = pd.DataFrame(columns = [\"Id\", \"Expected\"])\n",
    "\n",
    "for img in os.listdir(kaggle_dir):\n",
    "    imag = im.load_img(kaggle_dir + img, target_size = (img_height, img_width))\n",
    "\n",
    "    photo_ar = im.img_to_array(imag)\n",
    "    photo_ar = np.expand_dims(photo_ar, axis = 0)\n",
    "    photo_ar /= 255\n",
    "\n",
    "    ans = np.argmax(model.predict(photo_ar))\n",
    "    \n",
    "    ans_df.loc[len(ans_df)] = [img, dic_test_rev[ans]]"
   ]
  },
  {
   "cell_type": "code",
   "execution_count": 39,
   "metadata": {},
   "outputs": [
    {
     "data": {
      "text/html": [
       "<div>\n",
       "<style scoped>\n",
       "    .dataframe tbody tr th:only-of-type {\n",
       "        vertical-align: middle;\n",
       "    }\n",
       "\n",
       "    .dataframe tbody tr th {\n",
       "        vertical-align: top;\n",
       "    }\n",
       "\n",
       "    .dataframe thead th {\n",
       "        text-align: right;\n",
       "    }\n",
       "</style>\n",
       "<table border=\"1\" class=\"dataframe\">\n",
       "  <thead>\n",
       "    <tr style=\"text-align: right;\">\n",
       "      <th></th>\n",
       "      <th>Id</th>\n",
       "      <th>Expected</th>\n",
       "    </tr>\n",
       "  </thead>\n",
       "  <tbody>\n",
       "    <tr>\n",
       "      <th>0</th>\n",
       "      <td>img0.jpg</td>\n",
       "      <td>nelson_muntz</td>\n",
       "    </tr>\n",
       "    <tr>\n",
       "      <th>1</th>\n",
       "      <td>img1.jpg</td>\n",
       "      <td>bart_simpson</td>\n",
       "    </tr>\n",
       "    <tr>\n",
       "      <th>2</th>\n",
       "      <td>img10.jpg</td>\n",
       "      <td>ned_flanders</td>\n",
       "    </tr>\n",
       "    <tr>\n",
       "      <th>3</th>\n",
       "      <td>img100.jpg</td>\n",
       "      <td>chief_wiggum</td>\n",
       "    </tr>\n",
       "    <tr>\n",
       "      <th>4</th>\n",
       "      <td>img101.jpg</td>\n",
       "      <td>apu_nahasapeemapetilon</td>\n",
       "    </tr>\n",
       "    <tr>\n",
       "      <th>...</th>\n",
       "      <td>...</td>\n",
       "      <td>...</td>\n",
       "    </tr>\n",
       "    <tr>\n",
       "      <th>986</th>\n",
       "      <td>img987.jpg</td>\n",
       "      <td>nelson_muntz</td>\n",
       "    </tr>\n",
       "    <tr>\n",
       "      <th>987</th>\n",
       "      <td>img988.jpg</td>\n",
       "      <td>ned_flanders</td>\n",
       "    </tr>\n",
       "    <tr>\n",
       "      <th>988</th>\n",
       "      <td>img989.jpg</td>\n",
       "      <td>charles_montgomery_burns</td>\n",
       "    </tr>\n",
       "    <tr>\n",
       "      <th>989</th>\n",
       "      <td>img99.jpg</td>\n",
       "      <td>chief_wiggum</td>\n",
       "    </tr>\n",
       "    <tr>\n",
       "      <th>990</th>\n",
       "      <td>img990.jpg</td>\n",
       "      <td>krusty_the_clown</td>\n",
       "    </tr>\n",
       "  </tbody>\n",
       "</table>\n",
       "<p>991 rows × 2 columns</p>\n",
       "</div>"
      ],
      "text/plain": [
       "             Id                  Expected\n",
       "0      img0.jpg              nelson_muntz\n",
       "1      img1.jpg              bart_simpson\n",
       "2     img10.jpg              ned_flanders\n",
       "3    img100.jpg              chief_wiggum\n",
       "4    img101.jpg    apu_nahasapeemapetilon\n",
       "..          ...                       ...\n",
       "986  img987.jpg              nelson_muntz\n",
       "987  img988.jpg              ned_flanders\n",
       "988  img989.jpg  charles_montgomery_burns\n",
       "989   img99.jpg              chief_wiggum\n",
       "990  img990.jpg          krusty_the_clown\n",
       "\n",
       "[991 rows x 2 columns]"
      ]
     },
     "execution_count": 39,
     "metadata": {},
     "output_type": "execute_result"
    }
   ],
   "source": [
    "ans_df"
   ]
  },
  {
   "cell_type": "code",
   "execution_count": 37,
   "metadata": {},
   "outputs": [],
   "source": [
    "sub_csv_path = \"/home/linnik/Downloads/Simp/ans.csv\"\n",
    "\n",
    "ans_df.to_csv(sub_csv_path, index = False)"
   ]
  }
 ],
 "metadata": {
  "kernelspec": {
   "display_name": "Python 3",
   "language": "python",
   "name": "python3"
  },
  "language_info": {
   "codemirror_mode": {
    "name": "ipython",
    "version": 3
   },
   "file_extension": ".py",
   "mimetype": "text/x-python",
   "name": "python",
   "nbconvert_exporter": "python",
   "pygments_lexer": "ipython3",
   "version": "3.7.5"
  }
 },
 "nbformat": 4,
 "nbformat_minor": 2
}
