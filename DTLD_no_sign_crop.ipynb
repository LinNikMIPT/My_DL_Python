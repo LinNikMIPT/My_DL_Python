{
 "cells": [
  {
   "cell_type": "code",
   "execution_count": 12,
   "metadata": {},
   "outputs": [],
   "source": [
    "import numpy as np\n",
    "import pandas as pd \n",
    "import pickle\n",
    "import csv\n",
    "from PIL import Image\n",
    "import os\n",
    "import random\n",
    "import shutil\n",
    "\n",
    "from matplotlib.pyplot import imread\n",
    "from PIL import Image\n",
    "import matplotlib.pyplot as plt"
   ]
  },
  {
   "cell_type": "code",
   "execution_count": 4,
   "metadata": {},
   "outputs": [],
   "source": [
    "colours_dir = \"/datasets/DTLD/DTLD_crop/new_train/colours/5/\"\n",
    "position_dir = \"/datasets/DTLD/DTLD_crop/new_train/position/5/\"\n",
    "\n",
    "main_dir_colours = os.listdir(colours_dir)\n",
    "main_dir_position = os.listdir(position_dir)"
   ]
  },
  {
   "cell_type": "code",
   "execution_count": 6,
   "metadata": {},
   "outputs": [
    {
     "name": "stdout",
     "output_type": "stream",
     "text": [
      "16001 20001\n"
     ]
    }
   ],
   "source": [
    "print(len(main_dir_colours), len(main_dir_position))"
   ]
  },
  {
   "cell_type": "code",
   "execution_count": 7,
   "metadata": {},
   "outputs": [
    {
     "name": "stdout",
     "output_type": "stream",
     "text": [
      "<class 'PIL.JpegImagePlugin.JpegImageFile'>\n"
     ]
    },
    {
     "data": {
      "image/png": "[encoded data removed]",
      "text/plain": [
       "<Figure size 432x288 with 1 Axes>"
      ]
     },
     "metadata": {
      "needs_background": "light"
     },
     "output_type": "display_data"
    }
   ],
   "source": [
    "example_img_path = colours_dir + main_dir_colours[0]\n",
    "\n",
    "img = im.load_img(example_img_path)\n",
    "print(type(img))\n",
    "size = img.size\n",
    "\n",
    "min_ = min(size)\n",
    "\n",
    "plt.imshow(img)\n",
    "plt.show()"
   ]
  },
  {
   "cell_type": "code",
   "execution_count": 8,
   "metadata": {},
   "outputs": [
    {
     "data": {
      "text/plain": [
       "39"
      ]
     },
     "execution_count": 8,
     "metadata": {},
     "output_type": "execute_result"
    }
   ],
   "source": [
    "min_"
   ]
  },
  {
   "cell_type": "code",
   "execution_count": 9,
   "metadata": {},
   "outputs": [
    {
     "data": {
      "image/png": "[encoded data removed]",
      "text/plain": [
       "<Figure size 432x288 with 1 Axes>"
      ]
     },
     "metadata": {
      "needs_background": "light"
     },
     "output_type": "display_data"
    }
   ],
   "source": [
    "img_new = im.load_img(example_img_path, target_size = (min_, min_))\n",
    "\n",
    "plt.imshow(img_new)\n",
    "plt.show()"
   ]
  },
  {
   "cell_type": "markdown",
   "metadata": {},
   "source": [
    "_________________"
   ]
  },
  {
   "cell_type": "code",
   "execution_count": 10,
   "metadata": {},
   "outputs": [],
   "source": [
    "target_train_dir = \"/home/linnik/Datasets/Signs/12_Classes_NAMI+RTSD/train/11/\"\n",
    "target_test_dir = \"/home/linnik/Datasets/Signs/12_Classes_NAMI+RTSD/test/11/\""
   ]
  },
  {
   "cell_type": "code",
   "execution_count": 17,
   "metadata": {},
   "outputs": [],
   "source": [
    "# train\n",
    "\n",
    "while len(os.listdir(target_train_dir)) < 6000:\n",
    "    photo = random.choice(main_dir_colours)\n",
    "    img_path = colours_dir + photo\n",
    "\n",
    "    img = im.load_img(img_path)\n",
    "    size = img.size\n",
    "    min_ = min(size)\n",
    "\n",
    "    img_new = im.load_img(img_path, target_size = (min_, min_))\n",
    "    img_new.save(target_train_dir + photo)"
   ]
  },
  {
   "cell_type": "code",
   "execution_count": 18,
   "metadata": {},
   "outputs": [],
   "source": [
    "# test\n",
    "\n",
    "while len(os.listdir(target_test_dir)) < 2000:\n",
    "    photo = random.choice(main_dir_position)\n",
    "    img_path = position_dir + photo\n",
    "\n",
    "    img = im.load_img(img_path)\n",
    "    size = img.size\n",
    "    min_ = min(size)\n",
    "\n",
    "    img_new = im.load_img(img_path, target_size = (min_, min_))\n",
    "    img_new.save(target_test_dir + photo)"
   ]
  }
 ],
 "metadata": {
  "kernelspec": {
   "display_name": "Python 3",
   "language": "python",
   "name": "python3"
  },
  "language_info": {
   "codemirror_mode": {
    "name": "ipython",
    "version": 3
   },
   "file_extension": ".py",
   "mimetype": "text/x-python",
   "name": "python",
   "nbconvert_exporter": "python",
   "pygments_lexer": "ipython3",
   "version": "3.7.5"
  }
 },
 "nbformat": 4,
 "nbformat_minor": 2
}
