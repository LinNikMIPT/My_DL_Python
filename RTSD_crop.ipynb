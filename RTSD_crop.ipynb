{
 "cells": [
  {
   "cell_type": "code",
   "execution_count": 4,
   "metadata": {},
   "outputs": [],
   "source": [
    "import numpy as np\n",
    "import pandas as pd \n",
    "import pickle\n",
    "import csv\n",
    "from PIL import Image\n",
    "import os\n",
    "import random\n",
    "import shutil\n",
    "\n",
    "from matplotlib.pyplot import imread\n",
    "from PIL import Image\n",
    "import matplotlib.pyplot as plt\n",
    "\n",
    "from keras.preprocessing.image import ImageDataGenerator"
   ]
  },
  {
   "cell_type": "code",
   "execution_count": 2,
   "metadata": {},
   "outputs": [],
   "source": [
    "csv_path = \"/datasets/RTSD/full-gt.csv\"\n",
    "photo_path = \"/datasets/RTSD/rtsd-frames/\"\n",
    "\n",
    "target_path = \"/home/linnik/Datasets/Signs/RTSD_crop_all/\""
   ]
  },
  {
   "cell_type": "code",
   "execution_count": 3,
   "metadata": {},
   "outputs": [
    {
     "data": {
      "text/html": [
       "<div>\n",
       "<style scoped>\n",
       "    .dataframe tbody tr th:only-of-type {\n",
       "        vertical-align: middle;\n",
       "    }\n",
       "\n",
       "    .dataframe tbody tr th {\n",
       "        vertical-align: top;\n",
       "    }\n",
       "\n",
       "    .dataframe thead th {\n",
       "        text-align: right;\n",
       "    }\n",
       "</style>\n",
       "<table border=\"1\" class=\"dataframe\">\n",
       "  <thead>\n",
       "    <tr style=\"text-align: right;\">\n",
       "      <th></th>\n",
       "      <th>filename</th>\n",
       "      <th>x_from</th>\n",
       "      <th>y_from</th>\n",
       "      <th>width</th>\n",
       "      <th>height</th>\n",
       "      <th>sign_class</th>\n",
       "      <th>sign_id</th>\n",
       "    </tr>\n",
       "  </thead>\n",
       "  <tbody>\n",
       "    <tr>\n",
       "      <th>0</th>\n",
       "      <td>autosave01_02_2012_09_13_33.jpg</td>\n",
       "      <td>649</td>\n",
       "      <td>376</td>\n",
       "      <td>18</td>\n",
       "      <td>18</td>\n",
       "      <td>2_1</td>\n",
       "      <td>0</td>\n",
       "    </tr>\n",
       "    <tr>\n",
       "      <th>1</th>\n",
       "      <td>autosave01_02_2012_09_13_34.jpg</td>\n",
       "      <td>671</td>\n",
       "      <td>356</td>\n",
       "      <td>20</td>\n",
       "      <td>21</td>\n",
       "      <td>2_1</td>\n",
       "      <td>0</td>\n",
       "    </tr>\n",
       "    <tr>\n",
       "      <th>2</th>\n",
       "      <td>autosave01_02_2012_09_13_35.jpg</td>\n",
       "      <td>711</td>\n",
       "      <td>332</td>\n",
       "      <td>27</td>\n",
       "      <td>26</td>\n",
       "      <td>2_1</td>\n",
       "      <td>0</td>\n",
       "    </tr>\n",
       "    <tr>\n",
       "      <th>3</th>\n",
       "      <td>autosave01_02_2012_09_13_36.jpg</td>\n",
       "      <td>764</td>\n",
       "      <td>290</td>\n",
       "      <td>37</td>\n",
       "      <td>36</td>\n",
       "      <td>2_1</td>\n",
       "      <td>0</td>\n",
       "    </tr>\n",
       "    <tr>\n",
       "      <th>4</th>\n",
       "      <td>autosave01_02_2012_09_13_36.jpg</td>\n",
       "      <td>684</td>\n",
       "      <td>384</td>\n",
       "      <td>17</td>\n",
       "      <td>17</td>\n",
       "      <td>1_23</td>\n",
       "      <td>1</td>\n",
       "    </tr>\n",
       "  </tbody>\n",
       "</table>\n",
       "</div>"
      ],
      "text/plain": [
       "                          filename  x_from  y_from  width  height sign_class  \\\n",
       "0  autosave01_02_2012_09_13_33.jpg     649     376     18      18        2_1   \n",
       "1  autosave01_02_2012_09_13_34.jpg     671     356     20      21        2_1   \n",
       "2  autosave01_02_2012_09_13_35.jpg     711     332     27      26        2_1   \n",
       "3  autosave01_02_2012_09_13_36.jpg     764     290     37      36        2_1   \n",
       "4  autosave01_02_2012_09_13_36.jpg     684     384     17      17       1_23   \n",
       "\n",
       "   sign_id  \n",
       "0        0  \n",
       "1        0  \n",
       "2        0  \n",
       "3        0  \n",
       "4        1  "
      ]
     },
     "execution_count": 3,
     "metadata": {},
     "output_type": "execute_result"
    }
   ],
   "source": [
    "csv = pd.read_csv(csv_path)\n",
    "csv.head()"
   ]
  },
  {
   "cell_type": "code",
   "execution_count": 12,
   "metadata": {},
   "outputs": [
    {
     "name": "stdout",
     "output_type": "stream",
     "text": [
      "CPU times: user 23min 55s, sys: 28.4 s, total: 24min 24s\n",
      "Wall time: 45min 47s\n"
     ]
    }
   ],
   "source": [
    "%%time\n",
    "\n",
    "for i in range(len(csv)):\n",
    "        image_name = csv.loc[i][\"filename\"]\n",
    "        class_id = csv.loc[i][\"sign_class\"]\n",
    "\n",
    "        img = Image.open(photo_path + image_name)\n",
    "        area = (int(csv.loc[i][\"x_from\"]), int(csv.loc[i][\"y_from\"]), int(csv.loc[i][\"x_from\"]) + int(csv.loc[i][\"width\"]), int(csv.loc[i][\"y_from\"]) + int(csv.loc[i][\"height\"]))\n",
    "        cropped_img = img.crop(area)\n",
    "\n",
    "        if os.path.isdir(target_path + class_id):\n",
    "            cropped_img.save(target_path + class_id + \"/\" + image_name[:-4] + str(i) + \".jpg\")\n",
    "        else:\n",
    "            os.mkdir(target_path + class_id)\n",
    "            cropped_img.save(target_path + class_id + \"/\" + image_name[:-4] + str(i) + \".jpg\")"
   ]
  },
  {
   "cell_type": "code",
   "execution_count": 5,
   "metadata": {},
   "outputs": [
    {
     "name": "stdout",
     "output_type": "stream",
     "text": [
      "198\n"
     ]
    }
   ],
   "source": [
    "n_classes = len(os.listdir(target_path))\n",
    "print(n_classes)"
   ]
  },
  {
   "cell_type": "markdown",
   "metadata": {},
   "source": [
    "### 10% to test"
   ]
  },
  {
   "cell_type": "code",
   "execution_count": 38,
   "metadata": {},
   "outputs": [],
   "source": [
    "data_path = \"/home/linnik/Datasets/Signs/temp/\"\n",
    "target_path = \"/home/linnik/Datasets/Signs/12_Classes_NAMI+RTSD/test/\""
   ]
  },
  {
   "cell_type": "code",
   "execution_count": 39,
   "metadata": {},
   "outputs": [],
   "source": [
    "for folder in os.listdir(data_path):\n",
    "    num_photos = len(os.listdir(data_path + folder))\n",
    "    while len(os.listdir(data_path + folder)) > 0.9 * num_photos:\n",
    "        photo = random.choice(os.listdir(data_path + folder))\n",
    "        shutil.move(data_path + folder + \"/\" + photo, target_path + folder + \"/\" + photo)"
   ]
  },
  {
   "cell_type": "markdown",
   "metadata": {},
   "source": [
    "### 2500 to test other (folder \"10\")"
   ]
  },
  {
   "cell_type": "code",
   "execution_count": 44,
   "metadata": {},
   "outputs": [],
   "source": [
    "black_list = ['1_22', '1_23', '2_4', '2_5', '3_1', '3_2', '3_4_1', '3_4_n2', '3_4_n5', '3_4_n8',\n",
    "              '3_24_n5', '3_24_n10', '3_24_n20', '3_24_n30', '3_24_n40', '3_24_n50', '3_24_n60', '3_24_n70',\n",
    "              '3_24_n80', '3_25_n20', '3_25_n40', '3_25_n50', '3_25_n70', '3_25_n80', '3_31', '5_19_1']"
   ]
  },
  {
   "cell_type": "code",
   "execution_count": 60,
   "metadata": {},
   "outputs": [],
   "source": [
    "data_path = \"/home/linnik/Datasets/Signs/RTSD_crop_all/\"\n",
    "target_path = \"/home/linnik/Datasets/Signs/12_Classes_NAMI+RTSD/test/10/\"\n",
    "\n",
    "while len(os.listdir(target_path)) < 2500:\n",
    "    for folder in os.listdir(data_path): \n",
    "        if folder not in black_list:\n",
    "            photo = random.choice(os.listdir(data_path + folder))\n",
    "            shutil.copy(data_path + folder + \"/\" + photo, target_path + photo)"
   ]
  },
  {
   "cell_type": "markdown",
   "metadata": {},
   "source": [
    "### 5000 to train other (folder \"10\")"
   ]
  },
  {
   "cell_type": "code",
   "execution_count": 61,
   "metadata": {},
   "outputs": [],
   "source": [
    "black_list = ['1_22', '1_23', '2_4', '2_5', '3_1', '3_2', '3_4_1', '3_4_n2', '3_4_n5', '3_4_n8',\n",
    "              '3_24_n5', '3_24_n10', '3_24_n20', '3_24_n30', '3_24_n40', '3_24_n50', '3_24_n60', '3_24_n70',\n",
    "              '3_24_n80', '3_25_n20', '3_25_n40', '3_25_n50', '3_25_n70', '3_25_n80', '3_31', '5_19_1']"
   ]
  },
  {
   "cell_type": "code",
   "execution_count": 62,
   "metadata": {},
   "outputs": [],
   "source": [
    "data_path = \"/home/linnik/Datasets/Signs/RTSD_crop_all/\"\n",
    "target_path = \"/home/linnik/Datasets/Signs/12_Classes_NAMI+RTSD/train/10/\"\n",
    "\n",
    "while len(os.listdir(target_path)) < 6000:\n",
    "    for folder in os.listdir(data_path): \n",
    "        if folder not in black_list:\n",
    "            photo = random.choice(os.listdir(data_path + folder))\n",
    "            shutil.copy(data_path + folder + \"/\" + photo, target_path + photo)"
   ]
  },
  {
   "cell_type": "markdown",
   "metadata": {},
   "source": [
    "### 6000 to train (folder \"09\")"
   ]
  },
  {
   "cell_type": "code",
   "execution_count": 65,
   "metadata": {},
   "outputs": [],
   "source": [
    "data_path = \"/home/linnik/Datasets/Signs/temp/09/\"\n",
    "target_path = \"/home/linnik/Datasets/Signs/12_Classes_NAMI+RTSD/train/09/\"\n",
    "\n",
    "while len(os.listdir(target_path)) < 6000:\n",
    "    photo = random.choice(os.listdir(data_path))\n",
    "    shutil.move(data_path + photo, target_path + photo)"
   ]
  },
  {
   "cell_type": "markdown",
   "metadata": {},
   "source": [
    "### Sings 4.6 and 4.7 augmentation"
   ]
  },
  {
   "cell_type": "code",
   "execution_count": 182,
   "metadata": {},
   "outputs": [],
   "source": [
    "path = \"/home/linnik/Datasets/Signs/temp/\"\n",
    "aug_path = \"/home/linnik/Datasets/Signs/4.7_aug/\"\n",
    "\n",
    "img_height, img_width = 200, 200"
   ]
  },
  {
   "cell_type": "code",
   "execution_count": 183,
   "metadata": {},
   "outputs": [],
   "source": [
    "datagen = ImageDataGenerator(\n",
    "    rescale = 1.0 / 255,\n",
    "    zoom_range = 0.5,\n",
    "    rotation_range = 15,\n",
    "    width_shift_range = img_width // 5,\n",
    "    height_shift_range = img_height // 5,\n",
    "    horizontal_flip = False,\n",
    "    vertical_flip = False)\n",
    "\n",
    "#datagen = ImageDataGenerator(rescale = 1.0 / 255)"
   ]
  },
  {
   "cell_type": "code",
   "execution_count": 184,
   "metadata": {},
   "outputs": [
    {
     "name": "stdout",
     "output_type": "stream",
     "text": [
      "Found 26 images belonging to 1 classes.\n"
     ]
    }
   ],
   "source": [
    "generator = datagen.flow_from_directory(\n",
    "    path,\n",
    "    shuffle = False, \n",
    "    target_size = (img_height, img_width),\n",
    "    batch_size = 1,\n",
    "    class_mode = 'categorical')"
   ]
  },
  {
   "cell_type": "code",
   "execution_count": 185,
   "metadata": {},
   "outputs": [],
   "source": [
    "i = 68\n",
    "\n",
    "for x, y in generator:\n",
    "    plt.imsave(aug_path + str(i) + \".jpg\", x[0])\n",
    "    i += 1\n",
    "    if i > 400:\n",
    "        break"
   ]
  }
 ],
 "metadata": {
  "kernelspec": {
   "display_name": "Python 3",
   "language": "python",
   "name": "python3"
  },
  "language_info": {
   "codemirror_mode": {
    "name": "ipython",
    "version": 3
   },
   "file_extension": ".py",
   "mimetype": "text/x-python",
   "name": "python",
   "nbconvert_exporter": "python",
   "pygments_lexer": "ipython3",
   "version": "3.7.5"
  }
 },
 "nbformat": 4,
 "nbformat_minor": 2
}
